{
 "cells": [
  {
   "cell_type": "code",
   "execution_count": 114,
   "metadata": {},
   "outputs": [],
   "source": [
    "'''Python implementation for Siemens'''\n",
    "#imports\n",
    "import requests\n",
    "import json"
   ]
  },
  {
   "cell_type": "code",
   "execution_count": 115,
   "metadata": {},
   "outputs": [],
   "source": [
    "'''Conecting to SpaceX API and getting some of the data of interes'''\n",
    "base_url = \"https://api.spacexdata.com/v4\" \n",
    "direcories = ['capsules', 'company', 'cores', 'crew','fairings', 'dragons', 'landpads', 'launches','payloads','rockets','starlink']\n",
    "\n",
    "data={}\n",
    "\n",
    "#Save data into dic\n",
    "for dic in direcories:\n",
    "    url = base_url + '/'+ dic \n",
    "    parsed_data = json.loads( requests.get(url).text )\n",
    "    data.update({dic :parsed_data })\n"
   ]
  },
  {
   "cell_type": "code",
   "execution_count": 116,
   "metadata": {},
   "outputs": [
    {
     "name": "stdout",
     "output_type": "stream",
     "text": [
      "The company is named SpaceX and is founded by Elon Musk in 2002\n",
      "\n",
      "It has 9500 employees and it operates 4 vehicles in its 3 launch sites.\n",
      "\n",
      "SpaceX designs, manufactures and launches advanced rockets and spacecraft. The company was founded in 2002 to revolutionize space technology, with the ultimate goal of enabling people to live on other planets.\n"
     ]
    }
   ],
   "source": [
    "#Company Info\n",
    "company = data['company']\n",
    "\n",
    "print( \"The company is named \" + company['name'] + \" and is founded by \" + company['founder'] + \" in \" + str( company['founded']))\n",
    "print(\"\\nIt has \" + str(company['employees']) + \" employees and it operates \" + str(company['vehicles']) + \" vehicles in its \" + str(company['launch_sites']) + \" launch sites.\\n\")\n",
    "print(company['summary'] )"
   ]
  },
  {
   "cell_type": "code",
   "execution_count": 98,
   "metadata": {},
   "outputs": [
    {
     "name": "stdout",
     "output_type": "stream",
     "text": [
      "SpaceX have sent 18 astronauts to space and 18 astronauts are still active.\n"
     ]
    }
   ],
   "source": [
    "#Crew sent to space\n",
    "crew = data['crew']\n",
    "\n",
    "active = 0\n",
    "\n",
    "astronauts = []\n",
    "\n",
    "for item in crew:\n",
    "    if item['status'] == 'active':\n",
    "        active += 1\n",
    "    #check for distinct astronauts\n",
    "    if item['id'] not in astronauts:\n",
    "        astronauts.append(item['id'])\n",
    "    \n",
    "\n",
    "print(\"SpaceX have sent \" + str(len( astronauts)) + \" astronauts to space and \"+ str(active) + \" astronauts are still active.\")"
   ]
  },
  {
   "cell_type": "code",
   "execution_count": 99,
   "metadata": {},
   "outputs": [
    {
     "name": "stdout",
     "output_type": "stream",
     "text": [
      "\n",
      "All payload types used by SpaceX:\n",
      "['Satellite', 'Dragon Boilerplate', 'Dragon 1.0', 'Dragon 1.1', 'Lander', 'Crew Dragon', 'Dragon 2.0']\n",
      "\n",
      "Total load in KG sent to space by Dragon 2.0:\n",
      "6300\n",
      "\n",
      "ID of all crew dragons:\n",
      "['5eb0e4cbb6c3bb0006eeb235', '5eb0e4d0b6c3bb0006eeb250', '5eb0e4d1b6c3bb0006eeb257', '5eb0e4d2b6c3bb0006eeb25f', '5fe3b3adb3467846b3242173', '5fe3b3bab3467846b3242174', '607a382f5a906a44023e0867']\n"
     ]
    }
   ],
   "source": [
    "#Payloads sent to space by SpaceX\n",
    "payloads = data['payloads']\n",
    "\n",
    "total_load = 0\n",
    "payloads_type = []\n",
    "crew_dragon_ID = []\n",
    "\n",
    "for item in payloads:\n",
    "    if item['type'] not in payloads_type:\n",
    "        payloads_type.append(item['type'])   \n",
    "    if item['mass_kg'] != None and  item['type'] == \"Dragon 2.0\":\n",
    "        total_load += item['mass_kg']\n",
    "    if item['type'] == \"Crew Dragon\" and item['id'] not in crew_dragon_ID:\n",
    "        crew_dragon_ID.append( item['id'])\n",
    "        \n",
    "    \n",
    "        \n",
    "\n",
    "print(\"\\nAll payload types used by SpaceX:\")        \n",
    "print(payloads_type)\n",
    "\n",
    "print(\"\\nTotal load in KG sent to space by Dragon 2.0:\")\n",
    "print(total_load)\n",
    "\n",
    "print(\"\\nID of all crew dragons:\")\n",
    "print(crew_dragon_ID)\n"
   ]
  },
  {
   "cell_type": "code",
   "execution_count": 117,
   "metadata": {},
   "outputs": [
    {
     "name": "stdout",
     "output_type": "stream",
     "text": [
      "SpaceX has done in total 99 land landing attempts where 88 were succesfull.\n"
     ]
    }
   ],
   "source": [
    "#Landings  of SpaceX rockets\n",
    "landingpads = data['landpads']\n",
    "fairnings = data['fairings']\n",
    "\n",
    "succesfull, total = 0, 0\n",
    "fairingsuc, fairningtot = 0 , 0\n",
    "\n",
    "for item in landingpads:\n",
    "    succesfull += item['landing_successes']\n",
    "    total += item['landing_attempts']\n",
    "    \n",
    "print(\"SpaceX has done in total \" + str(total) + \" land landing attempts where \" + str(succesfull) + \" were succesfull.\")\n"
   ]
  },
  {
   "cell_type": "code",
   "execution_count": 119,
   "metadata": {},
   "outputs": [
    {
     "name": "stdout",
     "output_type": "stream",
     "text": [
      "There are 4 kind of rockets at SpaceX:\n",
      "['Falcon 1', 'Falcon 9', 'Falcon Heavy', 'Starship']\n",
      "\n",
      "The rocket with the highest success rate is Falcon Heavy with a rete of 100. With the ability to lift into orbit over 54 metric tons (119,000 lb)--a mass equivalent to a 737 jetliner loaded with passengers, crew, luggage and fuel--Falcon Heavy can lift more than twice the payload of the next closest operational vehicle, the Delta IV Heavy, at one-third the cost.\n"
     ]
    }
   ],
   "source": [
    "#Rockets\n",
    "rockets = data['rockets']\n",
    "\n",
    "rocket_names = []\n",
    "\n",
    "for item in rockets:\n",
    "    if item['type'] == 'rocket':\n",
    "        rocket_names.append(item['name'])\n",
    "        \n",
    "mostSuccesfullRocket = sorted(rockets, key=lambda k: k['success_rate_pct'], reverse=True)[0]\n",
    "    \n",
    "print(\"There are \" +  str(len(rocket_names))+ \" kind of rockets at SpaceX:\")\n",
    "print(rocket_names)\n",
    "\n",
    "print(\"\\nThe rocket with the highest success rate is \" + mostSuccesfullRocket['name'] + \" with a rete of \" + str(mostSuccesfullRocket['success_rate_pct']) + \". \" + mostSuccesfullRocket['description'])"
   ]
  },
  {
   "cell_type": "code",
   "execution_count": null,
   "metadata": {},
   "outputs": [],
   "source": []
  }
 ],
 "metadata": {
  "kernelspec": {
   "display_name": "Python 3",
   "language": "python",
   "name": "python3"
  },
  "language_info": {
   "codemirror_mode": {
    "name": "ipython",
    "version": 3
   },
   "file_extension": ".py",
   "mimetype": "text/x-python",
   "name": "python",
   "nbconvert_exporter": "python",
   "pygments_lexer": "ipython3",
   "version": "3.7.3"
  }
 },
 "nbformat": 4,
 "nbformat_minor": 2
}
